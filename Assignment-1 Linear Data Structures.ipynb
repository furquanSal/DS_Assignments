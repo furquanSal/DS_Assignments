{
 "cells": [
  {
   "cell_type": "code",
   "execution_count": 1,
   "id": "e0c993ed",
   "metadata": {},
   "outputs": [
    {
     "name": "stdout",
     "output_type": "stream",
     "text": [
      "6 4\n",
      "7 3\n",
      "8 2\n",
      "9 1\n"
     ]
    }
   ],
   "source": [
    "#Q1. Write a program to find all pairs of an integer array whose sum is equal to a given number?\n",
    "def find_pairs(arr, target):\n",
    "    # Create an empty dictionary to store pairs\n",
    "    pairs = {}\n",
    "    \n",
    "    # Iterate through the array\n",
    "    for i in range(len(arr)):\n",
    "        # Check if the complement of the current element exists in the dictionary\n",
    "        complement = target - arr[i]\n",
    "        if complement in pairs:\n",
    "            # If the complement exists, print the pair\n",
    "            print(arr[i], complement)\n",
    "        # Add the current element to the dictionary\n",
    "        pairs[arr[i]] = i\n",
    "    \n",
    "# Example usage\n",
    "arr = [1, 2, 3, 4, 5, 6, 7, 8, 9]\n",
    "target = 10\n",
    "find_pairs(arr, target)\n"
   ]
  },
  {
   "cell_type": "code",
   "execution_count": 2,
   "id": "0833c4cf",
   "metadata": {},
   "outputs": [
    {
     "name": "stdout",
     "output_type": "stream",
     "text": [
      "[5, 4, 3, 2, 1]\n"
     ]
    }
   ],
   "source": [
    "#Q2. Write a program to reverse an array in place? In place means you cannot create a new array. You have to update the original array.\n",
    "def reverse_array(arr):\n",
    "    # Get the length of the array\n",
    "    n = len(arr)\n",
    "    \n",
    "    # Iterate through half of the array and swap elements\n",
    "    for i in range(n//2):\n",
    "        arr[i], arr[n-1-i] = arr[n-1-i], arr[i]\n",
    "    \n",
    "# Example usage\n",
    "arr = [1, 2, 3, 4, 5]\n",
    "reverse_array(arr)\n",
    "print(arr)\n"
   ]
  },
  {
   "cell_type": "code",
   "execution_count": 5,
   "id": "4c2a52b5",
   "metadata": {},
   "outputs": [
    {
     "name": "stdout",
     "output_type": "stream",
     "text": [
      "The strings are rotations of each other\n"
     ]
    }
   ],
   "source": [
    "#Q3. Write a program to check if two strings are a rotation of each other?\n",
    "def are_rotations(str1, str2):\n",
    "    # Check if the length of the strings are the same\n",
    "    if len(str1) != len(str2):\n",
    "        return False\n",
    "    \n",
    "    # Concatenate the first string to itself\n",
    "    temp = str1 + str1\n",
    "    \n",
    "    # Check if the second string is a substring of the concatenated string\n",
    "    if str2 in temp:\n",
    "        return True\n",
    "    else:\n",
    "        return False\n",
    "    \n",
    "# Example usage\n",
    "str1 = \"abcde\"\n",
    "str2 = \"cdeab\"\n",
    "if are_rotations(str1, str2):\n",
    "    print(\"The strings are rotations of each other\")\n",
    "else:\n",
    "    print(\"The strings are not rotations of each other\")\n"
   ]
  },
  {
   "cell_type": "code",
   "execution_count": 6,
   "id": "22c2dac9",
   "metadata": {},
   "outputs": [
    {
     "name": "stdout",
     "output_type": "stream",
     "text": [
      "The first non-repeated character in the string is h\n"
     ]
    }
   ],
   "source": [
    "#Q4. Write a program to print the first non-repeated character from a string?\n",
    "def first_non_repeated_char(string):\n",
    "    # Create a dictionary to store the count of each character in the string\n",
    "    char_count = {}\n",
    "    for char in string:\n",
    "        if char in char_count:\n",
    "            char_count[char] += 1\n",
    "        else:\n",
    "            char_count[char] = 1\n",
    "    \n",
    "    # Iterate through the string again and return the first non-repeated character\n",
    "    for char in string:\n",
    "        if char_count[char] == 1:\n",
    "            return char\n",
    "    \n",
    "    # If no non-repeated character is found, return None\n",
    "    return None\n",
    "    \n",
    "# Example usage\n",
    "string = \"hello world\"\n",
    "result = first_non_repeated_char(string)\n",
    "if result:\n",
    "    print(\"The first non-repeated character in the string is\", result)\n",
    "else:\n",
    "    print(\"No non-repeated character found in the string\")\n"
   ]
  },
  {
   "cell_type": "code",
   "execution_count": 7,
   "id": "c5101e68",
   "metadata": {},
   "outputs": [
    {
     "name": "stdout",
     "output_type": "stream",
     "text": [
      "Move disk 1 from A to C\n",
      "Move disk 2 from A to B\n",
      "Move disk 1 from C to B\n",
      "Move disk 3 from A to C\n",
      "Move disk 1 from B to A\n",
      "Move disk 2 from B to C\n",
      "Move disk 1 from A to C\n"
     ]
    }
   ],
   "source": [
    "#Q5. Read about the Tower of Hanoi algorithm. Write a program to implement it.\n",
    "def tower_of_hanoi(n, source, auxiliary, destination):\n",
    "    if n == 1:\n",
    "        print(f\"Move disk 1 from {source} to {destination}\")\n",
    "        return\n",
    "    tower_of_hanoi(n-1, source, destination, auxiliary)\n",
    "    print(f\"Move disk {n} from {source} to {destination}\")\n",
    "    tower_of_hanoi(n-1, auxiliary, source, destination)\n",
    "\n",
    "n = 3\n",
    "tower_of_hanoi(n, 'A', 'B', 'C')\n"
   ]
  },
  {
   "cell_type": "code",
   "execution_count": 8,
   "id": "b6554ff4",
   "metadata": {},
   "outputs": [
    {
     "name": "stdout",
     "output_type": "stream",
     "text": [
      "Prefix expression: /*+abcd\n"
     ]
    }
   ],
   "source": [
    "#Q6. Read about infix, prefix, and postfix expressions. Write a program to convert postfix to prefix expression.\n",
    "def postfix_to_prefix(postfix):\n",
    "    stack = []\n",
    "    operators = set(['+', '-', '*', '/', '^'])\n",
    "    for char in postfix:\n",
    "        if char not in operators:\n",
    "            stack.append(char)\n",
    "        else:\n",
    "            op1 = stack.pop()\n",
    "            op2 = stack.pop()\n",
    "            stack.append(char + op2 + op1)\n",
    "    return stack.pop()\n",
    "\n",
    "postfix = \"ab+c*d/\"\n",
    "prefix = postfix_to_prefix(postfix)\n",
    "print(\"Prefix expression:\", prefix)\n"
   ]
  },
  {
   "cell_type": "code",
   "execution_count": 9,
   "id": "e1645849",
   "metadata": {},
   "outputs": [
    {
     "name": "stdout",
     "output_type": "stream",
     "text": [
      "Infix expression: ((a+b)*(c-d))\n"
     ]
    }
   ],
   "source": [
    "#Q7. Write a program to convert prefix expression to infix expression.\n",
    "def prefix_to_infix(prefix):\n",
    "    stack = []\n",
    "    operators = set(['+', '-', '*', '/', '^'])\n",
    "    for char in reversed(prefix):\n",
    "        if char not in operators:\n",
    "            stack.append(char)\n",
    "        else:\n",
    "            op1 = stack.pop()\n",
    "            op2 = stack.pop()\n",
    "            exp = '(' + op1 + char + op2 + ')'\n",
    "            stack.append(exp)\n",
    "    return stack.pop()\n",
    "\n",
    "prefix = \"*+ab-cd\"\n",
    "infix = prefix_to_infix(prefix)\n",
    "print(\"Infix expression:\", infix)\n"
   ]
  },
  {
   "cell_type": "code",
   "execution_count": 11,
   "id": "905a8a69",
   "metadata": {},
   "outputs": [
    {
     "name": "stdout",
     "output_type": "stream",
     "text": [
      "All brackets are closed properly\n"
     ]
    }
   ],
   "source": [
    "#Q8. Write a program to check if all the brackets are closed in a given code snippet.\n",
    "def check_brackets(code):\n",
    "    stack = []\n",
    "    for char in code:\n",
    "        if char in ['(', '[', '{']:\n",
    "            stack.append(char)\n",
    "        elif char in [')', ']', '}']:\n",
    "            if not stack:\n",
    "                return False\n",
    "            if (char == ')' and stack[-1] != '(') or (char == ']' and stack[-1] != '[') or (char == '}' and stack[-1] != '{'):\n",
    "                return False\n",
    "            stack.pop()\n",
    "    return len(stack) == 0\n",
    "\n",
    "code = \"{[(a+b)*c]-{d/e}}\"\n",
    "if check_brackets(code):\n",
    "    print(\"All brackets are closed properly\")\n",
    "else:\n",
    "    print(\"Brackets are not closed properly\")\n"
   ]
  },
  {
   "cell_type": "code",
   "execution_count": 12,
   "id": "0353b178",
   "metadata": {},
   "outputs": [
    {
     "name": "stdout",
     "output_type": "stream",
     "text": [
      "Original stack: [1, 2, 3, 4, 5]\n",
      "Reversed stack: [1, 2, 3, 4, 5]\n"
     ]
    }
   ],
   "source": [
    "#Q9. Write a program to reverse a stack.\n",
    "def reverse_stack(stack):\n",
    "    temp_stack = []\n",
    "    while stack:\n",
    "        temp_stack.append(stack.pop())\n",
    "    while temp_stack:\n",
    "        stack.append(temp_stack.pop())\n",
    "    return stack\n",
    "\n",
    "stack = [1, 2, 3, 4, 5]\n",
    "print(\"Original stack:\", stack)\n",
    "reversed_stack = reverse_stack(stack)\n",
    "print(\"Reversed stack:\", reversed_stack)\n"
   ]
  },
  {
   "cell_type": "code",
   "execution_count": 13,
   "id": "d482647b",
   "metadata": {},
   "outputs": [
    {
     "name": "stdout",
     "output_type": "stream",
     "text": [
      "Stack: [5, 3, 8, 1, 6, 2]\n",
      "Smallest number in stack: 1\n"
     ]
    }
   ],
   "source": [
    "#Q10. Write a program to find the smallest number using a stack.\n",
    "def find_smallest_number(stack):\n",
    "    if not stack:\n",
    "        return None\n",
    "    smallest = stack.pop()\n",
    "    while stack:\n",
    "        current = stack.pop()\n",
    "        if current < smallest:\n",
    "            smallest = current\n",
    "    return smallest\n",
    "\n",
    "stack = [5, 3, 8, 1, 6, 2]\n",
    "print(\"Stack:\", stack)\n",
    "smallest_number = find_smallest_number(stack)\n",
    "print(\"Smallest number in stack:\", smallest_number)\n"
   ]
  },
  {
   "cell_type": "code",
   "execution_count": null,
   "id": "6ea73b0c",
   "metadata": {},
   "outputs": [],
   "source": []
  }
 ],
 "metadata": {
  "kernelspec": {
   "display_name": "Python 3 (ipykernel)",
   "language": "python",
   "name": "python3"
  },
  "language_info": {
   "codemirror_mode": {
    "name": "ipython",
    "version": 3
   },
   "file_extension": ".py",
   "mimetype": "text/x-python",
   "name": "python",
   "nbconvert_exporter": "python",
   "pygments_lexer": "ipython3",
   "version": "3.9.12"
  }
 },
 "nbformat": 4,
 "nbformat_minor": 5
}
